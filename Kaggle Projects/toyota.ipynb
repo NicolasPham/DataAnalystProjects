{
 "cells": [
  {
   "cell_type": "markdown",
   "metadata": {},
   "source": [
    "### Price of Used Toyota Corolla Cars\n",
    "\n",
    "<h3 style = \"color:green\">1. About dataset</h3>\n",
    "<p>- A large Toyota car dealership offers purchasers of new Toyota cars the option to buy their used car as part of a trade-in. In particular, a new promotion promises to pay high prices for used Toyota Corolla cars for purchasers of a new car. The dealer then sells the used car for a small profit. To ensure a reasonable profit, the dealer needs to be able to predict the price that the dealership will get for the used cars. For that reason, data were collected on all previous sales of used Toyota Corollas at the dealership. The data include the sales price and other information on the car, such as its age, mileage, fuel type, and engine size.</p>\n",
    "\n",
    "<p>- The total number of records in the dataset is 1436 cars. Description of each of variables is as below:</p>\n",
    "\n",
    "<p>Id: Unique identifier for each car entry.</p>\n",
    "<p>Model: The model name of the Toyota Corolla.</p>\n",
    "<p>Price: The selling price of the used car.</p>\n",
    "<p>Age_08_04: The age of the car in months as of August 2004.</p>\n",
    "<p>Mfg_Month: The manufacturing month of the car.</p>\n",
    "<p>Mfg_Year: The manufacturing year of the car.</p>\n",
    "<p>KM: The number of kilometers the car has been driven.</p>\n",
    "<p>Fuel_type: The type of fuel the car uses (e.g., Petrol, Diesel).</p>\n",
    "<p>HP: Horsepower, a measure of the engine's power.</p>\n",
    "<p>Met_Color: Binary indicator for metallic paint (0 = No, 1 = Yes).</p>\n",
    "<p>Color: The exterior color of the car.</p>\n",
    "<p>Automatic: Binary indicator for automatic transmission (0 = No, 1 = Yes).</p>\n",
    "<p>CC: Engine size in cubic centimeters.</p>\n",
    "<p>Doors: Number of doors on the car.</p>\n",
    "<p>Cylinders: Number of cylinders in the engine.</p>\n",
    "<p>Gears: Number of gears in the transmission.</p>\n",
    "<p>Quarterly: Quarterly tax for the car.</p>\n",
    "<p>Weight: Weight of the car.</p>\n",
    "<p>Mfr_Guarantee: Binary indicator for manufacturer's guarantee (0 = No, 1 = Yes).</p>\n",
    "<p>BOVAG_Guarantee: Binary indicator for BOVAG guarantee (0 = No, 1 = Yes).</p>\n",
    "<p>Guarantee_Period: Duration of the guarantee in months.</p>\n",
    "<p>ABS: Binary indicator for Anti-lock Braking System (0 = No, 1 = Yes).</p>\n",
    "<p>Airbag_1: Binary indicator for the presence of Airbag 1 (0 = No, 1 = Yes).</p>\n",
    "<p>Airbag_2: Binary indicator for the presence of Airbag 2 (0 = No, 1 = Yes).</p>\n",
    "<p>Airco: Binary indicator for air conditioning (0 = No, 1 = Yes).</p>\n",
    "<p>Automatic_airco: Binary indicator for automatic air conditioning (0 = No, 1 = Yes).</p>\n",
    "<p>Boardcomputer: Binary indicator for a board computer (0 = No, 1 = Yes).</p>\n",
    "<p>CD_Player: Binary indicator for the presence of a CD player (0 = No, 1 = Yes).</p>\n",
    "<p>Central_Lock: Binary indicator for central locking system (0 = No, 1 = Yes).</p>\n",
    "<p>Powered_Windows: Binary indicator for powered windows (0 = No, 1 = Yes).</p>\n",
    "<p>Power_Steering: Binary indicator for power steering (0 = No, 1 = Yes).</p>\n",
    "<p>Radio: Binary indicator for a radio (0 = No, 1 = Yes).</p>\n",
    "<p>Mistlamps: Binary indicator for mist lamps (0 = No, 1 = Yes).</p>\n",
    "<p>Sport_Model: Binary indicator for a sport model (0 = No, 1 = Yes).</p>\n",
    "<p>Backseat_Divider: Binary indicator for a backseat divider (0 = No, 1 = Yes).</p>\n",
    "<p>Metallic_Rim: Binary indicator for metallic rims (0 = No, 1 = Yes).</p>\n",
    "<p>Radio_cassette: Binary indicator for a radio cassette player (0 = No, 1 = Yes).</p>\n",
    "<p>Parking_Assistant: Binary indicator for a parking assistant (0 = No, 1 = Yes).</p>\n",
    "<p>Tow_Bar: Binary indicator for the presence of a tow bar (0 = No, 1 = Yes).</p>"
   ]
  },
  {
   "cell_type": "code",
   "execution_count": 1,
   "metadata": {},
   "outputs": [],
   "source": [
    "# import libraries\n",
    "import pandas as pd\n",
    "import numpy as np\n",
    "import matplotlib.pyplot as plt\n",
    "import seaborn as sns"
   ]
  },
  {
   "cell_type": "code",
   "execution_count": null,
   "metadata": {},
   "outputs": [],
   "source": []
  }
 ],
 "metadata": {
  "kernelspec": {
   "display_name": "Python 3",
   "language": "python",
   "name": "python3"
  },
  "language_info": {
   "codemirror_mode": {
    "name": "ipython",
    "version": 3
   },
   "file_extension": ".py",
   "mimetype": "text/x-python",
   "name": "python",
   "nbconvert_exporter": "python",
   "pygments_lexer": "ipython3",
   "version": "3.11.2"
  }
 },
 "nbformat": 4,
 "nbformat_minor": 2
}
